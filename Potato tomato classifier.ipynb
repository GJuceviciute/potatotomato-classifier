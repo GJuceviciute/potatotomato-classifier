{
  "nbformat": 4,
  "nbformat_minor": 0,
  "metadata": {
    "jupytext": {
      "split_at_heading": true
    },
    "kernelspec": {
      "display_name": "Python 3",
      "language": "python",
      "name": "python3"
    },
    "language_info": {
      "codemirror_mode": {
        "name": "ipython",
        "version": 3
      },
      "file_extension": ".py",
      "mimetype": "text/x-python",
      "name": "python",
      "nbconvert_exporter": "python",
      "pygments_lexer": "ipython3",
      "version": "3.7.7"
    },
    "toc": {
      "base_numbering": 1,
      "nav_menu": {},
      "number_sections": false,
      "sideBar": true,
      "skip_h1_title": true,
      "title_cell": "Table of Contents",
      "title_sidebar": "Contents",
      "toc_cell": false,
      "toc_position": {},
      "toc_section_display": true,
      "toc_window_display": false
    },
    "colab": {
      "name": "Copy of bear_classifier.ipynb",
      "provenance": [],
      "collapsed_sections": [],
      "include_colab_link": true
    },
    "accelerator": "GPU",
    "widgets": {
      "application/vnd.jupyter.widget-state+json": {
        "3e14e187e29141a3ab11589a4eea76a0": {
          "model_module": "@jupyter-widgets/controls",
          "model_name": "VBoxModel",
          "state": {
            "_view_name": "VBoxView",
            "_dom_classes": [],
            "_model_name": "VBoxModel",
            "_view_module": "@jupyter-widgets/controls",
            "_model_module_version": "1.5.0",
            "_view_count": null,
            "_view_module_version": "1.5.0",
            "box_style": "",
            "layout": "IPY_MODEL_1796382411b5460f90eac65c55d0aeb3",
            "_model_module": "@jupyter-widgets/controls",
            "children": [
              "IPY_MODEL_5dda0d36d70f469f977f92b7e483bd99",
              "IPY_MODEL_e42f303041384e4bb5effbe32c02b540",
              "IPY_MODEL_39fe57adb40547d6845b0e40c615d97d",
              "IPY_MODEL_fbdb03c88cb14ca2b9ff68376c758d00"
            ]
          }
        },
        "1796382411b5460f90eac65c55d0aeb3": {
          "model_module": "@jupyter-widgets/base",
          "model_name": "LayoutModel",
          "state": {
            "_view_name": "LayoutView",
            "grid_template_rows": null,
            "right": null,
            "justify_content": null,
            "_view_module": "@jupyter-widgets/base",
            "overflow": null,
            "_model_module_version": "1.2.0",
            "_view_count": null,
            "flex_flow": null,
            "width": null,
            "min_width": null,
            "border": null,
            "align_items": null,
            "bottom": null,
            "_model_module": "@jupyter-widgets/base",
            "top": null,
            "grid_column": null,
            "overflow_y": null,
            "overflow_x": null,
            "grid_auto_flow": null,
            "grid_area": null,
            "grid_template_columns": null,
            "flex": null,
            "_model_name": "LayoutModel",
            "justify_items": null,
            "grid_row": null,
            "max_height": null,
            "align_content": null,
            "visibility": null,
            "align_self": null,
            "height": null,
            "min_height": null,
            "padding": null,
            "grid_auto_rows": null,
            "grid_gap": null,
            "max_width": null,
            "order": null,
            "_view_module_version": "1.2.0",
            "grid_template_areas": null,
            "object_position": null,
            "object_fit": null,
            "grid_auto_columns": null,
            "margin": null,
            "display": null,
            "left": null
          }
        },
        "5dda0d36d70f469f977f92b7e483bd99": {
          "model_module": "@jupyter-widgets/controls",
          "model_name": "LabelModel",
          "state": {
            "_view_name": "LabelView",
            "style": "IPY_MODEL_3421504f57a147f9a52bccde5259ada0",
            "_dom_classes": [],
            "description": "",
            "_model_name": "LabelModel",
            "placeholder": "​",
            "_view_module": "@jupyter-widgets/controls",
            "_model_module_version": "1.5.0",
            "value": "Select your bear!",
            "_view_count": null,
            "_view_module_version": "1.5.0",
            "description_tooltip": null,
            "_model_module": "@jupyter-widgets/controls",
            "layout": "IPY_MODEL_84d36ce43a2341f7b9406a86c1badd98"
          }
        },
        "e42f303041384e4bb5effbe32c02b540": {
          "model_module": "@jupyter-widgets/controls",
          "model_name": "FileUploadModel",
          "state": {
            "_view_name": "FileUploadView",
            "_counter": 1,
            "style": "IPY_MODEL_13368e93471c48d5ad105d7df1df7e5b",
            "_dom_classes": [],
            "description": "Upload",
            "multiple": false,
            "_model_name": "FileUploadModel",
            "data": [
              null
            ],
            "button_style": "",
            "_view_module": "@jupyter-widgets/controls",
            "_model_module_version": "1.5.0",
            "accept": "",
            "_view_count": null,
            "disabled": false,
            "_view_module_version": "1.5.0",
            "error": "",
            "description_tooltip": null,
            "metadata": [
              {
                "name": "zulek.jpg",
                "type": "image/jpeg",
                "size": 27892,
                "lastModified": 1602245592924
              }
            ],
            "_model_module": "@jupyter-widgets/controls",
            "layout": "IPY_MODEL_da55b812dfb84a77bbd1d326744a6281",
            "icon": "upload"
          }
        },
        "39fe57adb40547d6845b0e40c615d97d": {
          "model_module": "@jupyter-widgets/output",
          "model_name": "OutputModel",
          "state": {
            "_view_name": "OutputView",
            "msg_id": "",
            "_dom_classes": [],
            "_model_name": "OutputModel",
            "outputs": [
              {
                "output_type": "display_data",
                "metadata": {
                  "tags": []
                },
                "image/png": "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\n",
                "text/plain": "<PIL.Image.Image image mode=RGB size=72x128 at 0x7F7A5A63E080>"
              }
            ],
            "_view_module": "@jupyter-widgets/output",
            "_model_module_version": "1.0.0",
            "_view_count": null,
            "_view_module_version": "1.0.0",
            "layout": "IPY_MODEL_485fe7a9fae849958877ef2a3f1cf635",
            "_model_module": "@jupyter-widgets/output"
          }
        },
        "fbdb03c88cb14ca2b9ff68376c758d00": {
          "model_module": "@jupyter-widgets/controls",
          "model_name": "LabelModel",
          "state": {
            "_view_name": "LabelView",
            "style": "IPY_MODEL_3d432e1e3b184f3fa006461923ecfae4",
            "_dom_classes": [],
            "description": "",
            "_model_name": "LabelModel",
            "placeholder": "​",
            "_view_module": "@jupyter-widgets/controls",
            "_model_module_version": "1.5.0",
            "value": "Prediction: tomato; Probability: 0.9488",
            "_view_count": null,
            "_view_module_version": "1.5.0",
            "description_tooltip": null,
            "_model_module": "@jupyter-widgets/controls",
            "layout": "IPY_MODEL_257c4180750e4dc99cb5f08bb66088ec"
          }
        },
        "3421504f57a147f9a52bccde5259ada0": {
          "model_module": "@jupyter-widgets/controls",
          "model_name": "DescriptionStyleModel",
          "state": {
            "_view_name": "StyleView",
            "_model_name": "DescriptionStyleModel",
            "description_width": "",
            "_view_module": "@jupyter-widgets/base",
            "_model_module_version": "1.5.0",
            "_view_count": null,
            "_view_module_version": "1.2.0",
            "_model_module": "@jupyter-widgets/controls"
          }
        },
        "84d36ce43a2341f7b9406a86c1badd98": {
          "model_module": "@jupyter-widgets/base",
          "model_name": "LayoutModel",
          "state": {
            "_view_name": "LayoutView",
            "grid_template_rows": null,
            "right": null,
            "justify_content": null,
            "_view_module": "@jupyter-widgets/base",
            "overflow": null,
            "_model_module_version": "1.2.0",
            "_view_count": null,
            "flex_flow": null,
            "width": null,
            "min_width": null,
            "border": null,
            "align_items": null,
            "bottom": null,
            "_model_module": "@jupyter-widgets/base",
            "top": null,
            "grid_column": null,
            "overflow_y": null,
            "overflow_x": null,
            "grid_auto_flow": null,
            "grid_area": null,
            "grid_template_columns": null,
            "flex": null,
            "_model_name": "LayoutModel",
            "justify_items": null,
            "grid_row": null,
            "max_height": null,
            "align_content": null,
            "visibility": null,
            "align_self": null,
            "height": null,
            "min_height": null,
            "padding": null,
            "grid_auto_rows": null,
            "grid_gap": null,
            "max_width": null,
            "order": null,
            "_view_module_version": "1.2.0",
            "grid_template_areas": null,
            "object_position": null,
            "object_fit": null,
            "grid_auto_columns": null,
            "margin": null,
            "display": null,
            "left": null
          }
        },
        "13368e93471c48d5ad105d7df1df7e5b": {
          "model_module": "@jupyter-widgets/controls",
          "model_name": "ButtonStyleModel",
          "state": {
            "_view_name": "StyleView",
            "_model_name": "ButtonStyleModel",
            "_view_module": "@jupyter-widgets/base",
            "_model_module_version": "1.5.0",
            "_view_count": null,
            "button_color": null,
            "font_weight": "",
            "_view_module_version": "1.2.0",
            "_model_module": "@jupyter-widgets/controls"
          }
        },
        "da55b812dfb84a77bbd1d326744a6281": {
          "model_module": "@jupyter-widgets/base",
          "model_name": "LayoutModel",
          "state": {
            "_view_name": "LayoutView",
            "grid_template_rows": null,
            "right": null,
            "justify_content": null,
            "_view_module": "@jupyter-widgets/base",
            "overflow": null,
            "_model_module_version": "1.2.0",
            "_view_count": null,
            "flex_flow": null,
            "width": null,
            "min_width": null,
            "border": null,
            "align_items": null,
            "bottom": null,
            "_model_module": "@jupyter-widgets/base",
            "top": null,
            "grid_column": null,
            "overflow_y": null,
            "overflow_x": null,
            "grid_auto_flow": null,
            "grid_area": null,
            "grid_template_columns": null,
            "flex": null,
            "_model_name": "LayoutModel",
            "justify_items": null,
            "grid_row": null,
            "max_height": null,
            "align_content": null,
            "visibility": null,
            "align_self": null,
            "height": null,
            "min_height": null,
            "padding": null,
            "grid_auto_rows": null,
            "grid_gap": null,
            "max_width": null,
            "order": null,
            "_view_module_version": "1.2.0",
            "grid_template_areas": null,
            "object_position": null,
            "object_fit": null,
            "grid_auto_columns": null,
            "margin": null,
            "display": null,
            "left": null
          }
        },
        "3d432e1e3b184f3fa006461923ecfae4": {
          "model_module": "@jupyter-widgets/controls",
          "model_name": "DescriptionStyleModel",
          "state": {
            "_view_name": "StyleView",
            "_model_name": "DescriptionStyleModel",
            "description_width": "",
            "_view_module": "@jupyter-widgets/base",
            "_model_module_version": "1.5.0",
            "_view_count": null,
            "_view_module_version": "1.2.0",
            "_model_module": "@jupyter-widgets/controls"
          }
        },
        "257c4180750e4dc99cb5f08bb66088ec": {
          "model_module": "@jupyter-widgets/base",
          "model_name": "LayoutModel",
          "state": {
            "_view_name": "LayoutView",
            "grid_template_rows": null,
            "right": null,
            "justify_content": null,
            "_view_module": "@jupyter-widgets/base",
            "overflow": null,
            "_model_module_version": "1.2.0",
            "_view_count": null,
            "flex_flow": null,
            "width": null,
            "min_width": null,
            "border": null,
            "align_items": null,
            "bottom": null,
            "_model_module": "@jupyter-widgets/base",
            "top": null,
            "grid_column": null,
            "overflow_y": null,
            "overflow_x": null,
            "grid_auto_flow": null,
            "grid_area": null,
            "grid_template_columns": null,
            "flex": null,
            "_model_name": "LayoutModel",
            "justify_items": null,
            "grid_row": null,
            "max_height": null,
            "align_content": null,
            "visibility": null,
            "align_self": null,
            "height": null,
            "min_height": null,
            "padding": null,
            "grid_auto_rows": null,
            "grid_gap": null,
            "max_width": null,
            "order": null,
            "_view_module_version": "1.2.0",
            "grid_template_areas": null,
            "object_position": null,
            "object_fit": null,
            "grid_auto_columns": null,
            "margin": null,
            "display": null,
            "left": null
          }
        },
        "485fe7a9fae849958877ef2a3f1cf635": {
          "model_module": "@jupyter-widgets/base",
          "model_name": "LayoutModel",
          "state": {
            "_view_name": "LayoutView",
            "grid_template_rows": null,
            "right": null,
            "justify_content": null,
            "_view_module": "@jupyter-widgets/base",
            "overflow": null,
            "_model_module_version": "1.2.0",
            "_view_count": null,
            "flex_flow": null,
            "width": null,
            "min_width": null,
            "border": null,
            "align_items": null,
            "bottom": null,
            "_model_module": "@jupyter-widgets/base",
            "top": null,
            "grid_column": null,
            "overflow_y": null,
            "overflow_x": null,
            "grid_auto_flow": null,
            "grid_area": null,
            "grid_template_columns": null,
            "flex": null,
            "_model_name": "LayoutModel",
            "justify_items": null,
            "grid_row": null,
            "max_height": null,
            "align_content": null,
            "visibility": null,
            "align_self": null,
            "height": null,
            "min_height": null,
            "padding": null,
            "grid_auto_rows": null,
            "grid_gap": null,
            "max_width": null,
            "order": null,
            "_view_module_version": "1.2.0",
            "grid_template_areas": null,
            "object_position": null,
            "object_fit": null,
            "grid_auto_columns": null,
            "margin": null,
            "display": null,
            "left": null
          }
        }
      }
    }
  },
  "cells": [
    {
      "cell_type": "markdown",
      "metadata": {
        "id": "view-in-github",
        "colab_type": "text"
      },
      "source": [
        "<a href=\"https://colab.research.google.com/github/GJuceviciute/potatotomato-classifier/blob/main/Copy_of_bear_classifier.ipynb\" target=\"_parent\"><img src=\"https://colab.research.google.com/assets/colab-badge.svg\" alt=\"Open In Colab\"/></a>"
      ]
    },
    {
      "cell_type": "code",
      "metadata": {
        "id": "pByTnRORENH7",
        "colab": {
          "base_uri": "https://localhost:8080/"
        },
        "outputId": "ca32084e-e4bd-4457-b55d-282f84979527"
      },
      "source": [
        "# !pip install voila\n",
        "# !jupyter serverextension enable voila —sys-prefix\n",
        "\n",
        "!pip install -Uqq fastbook\n",
        "import fastbook\n",
        "fastbook.setup_book()\n",
        "from fastbook import *\n",
        "from fastai.vision.all import *\n",
        "from fastai.vision.widgets import *"
      ],
      "execution_count": 10,
      "outputs": [
        {
          "output_type": "stream",
          "text": [
            "\u001b[K     |████████████████████████████████| 727kB 8.0MB/s \n",
            "\u001b[K     |████████████████████████████████| 51kB 6.6MB/s \n",
            "\u001b[K     |████████████████████████████████| 1.1MB 16.8MB/s \n",
            "\u001b[K     |████████████████████████████████| 194kB 29.6MB/s \n",
            "\u001b[K     |████████████████████████████████| 51kB 7.5MB/s \n",
            "\u001b[K     |████████████████████████████████| 40kB 5.2MB/s \n",
            "\u001b[K     |████████████████████████████████| 92kB 10.5MB/s \n",
            "\u001b[K     |████████████████████████████████| 51kB 7.2MB/s \n",
            "\u001b[K     |████████████████████████████████| 61kB 8.2MB/s \n",
            "\u001b[K     |████████████████████████████████| 51kB 6.1MB/s \n",
            "\u001b[K     |████████████████████████████████| 2.6MB 21.4MB/s \n",
            "\u001b[?25hMounted at /content/gdrive\n"
          ],
          "name": "stdout"
        }
      ]
    },
    {
      "cell_type": "markdown",
      "metadata": {
        "id": "wWQRhnpLENH_"
      },
      "source": [
        "# *The Amazing Potato Tomato Classifier!*"
      ]
    },
    {
      "cell_type": "markdown",
      "metadata": {
        "id": "80Zh7g9DENIA"
      },
      "source": [
        "You need to know whether you're seeing a potato or tomato, and you need an answer **FAST**? Then you've come to the right place. Take a pic of the potential vegetable or berry, and click 'upload' to classify it. (Important: this only handles potatoes and tomatoes. It will **NOT** give a sensible answer for other veggies, fruits, berries or hot dogs.\n",
        "\n",
        "----"
      ]
    },
    {
      "cell_type": "code",
      "metadata": {
        "id": "dPO90BjJENIB",
        "colab": {
          "resources": {
            "http://localhost:8080/nbextensions/google.colab/files.js": {
              "data": "Ly8gQ29weXJpZ2h0IDIwMTcgR29vZ2xlIExMQwovLwovLyBMaWNlbnNlZCB1bmRlciB0aGUgQXBhY2hlIExpY2Vuc2UsIFZlcnNpb24gMi4wICh0aGUgIkxpY2Vuc2UiKTsKLy8geW91IG1heSBub3QgdXNlIHRoaXMgZmlsZSBleGNlcHQgaW4gY29tcGxpYW5jZSB3aXRoIHRoZSBMaWNlbnNlLgovLyBZb3UgbWF5IG9idGFpbiBhIGNvcHkgb2YgdGhlIExpY2Vuc2UgYXQKLy8KLy8gICAgICBodHRwOi8vd3d3LmFwYWNoZS5vcmcvbGljZW5zZXMvTElDRU5TRS0yLjAKLy8KLy8gVW5sZXNzIHJlcXVpcmVkIGJ5IGFwcGxpY2FibGUgbGF3IG9yIGFncmVlZCB0byBpbiB3cml0aW5nLCBzb2Z0d2FyZQovLyBkaXN0cmlidXRlZCB1bmRlciB0aGUgTGljZW5zZSBpcyBkaXN0cmlidXRlZCBvbiBhbiAiQVMgSVMiIEJBU0lTLAovLyBXSVRIT1VUIFdBUlJBTlRJRVMgT1IgQ09ORElUSU9OUyBPRiBBTlkgS0lORCwgZWl0aGVyIGV4cHJlc3Mgb3IgaW1wbGllZC4KLy8gU2VlIHRoZSBMaWNlbnNlIGZvciB0aGUgc3BlY2lmaWMgbGFuZ3VhZ2UgZ292ZXJuaW5nIHBlcm1pc3Npb25zIGFuZAovLyBsaW1pdGF0aW9ucyB1bmRlciB0aGUgTGljZW5zZS4KCi8qKgogKiBAZmlsZW92ZXJ2aWV3IEhlbHBlcnMgZm9yIGdvb2dsZS5jb2xhYiBQeXRob24gbW9kdWxlLgogKi8KKGZ1bmN0aW9uKHNjb3BlKSB7CmZ1bmN0aW9uIHNwYW4odGV4dCwgc3R5bGVBdHRyaWJ1dGVzID0ge30pIHsKICBjb25zdCBlbGVtZW50ID0gZG9jdW1lbnQuY3JlYXRlRWxlbWVudCgnc3BhbicpOwogIGVsZW1lbnQudGV4dENvbnRlbnQgPSB0ZXh0OwogIGZvciAoY29uc3Qga2V5IG9mIE9iamVjdC5rZXlzKHN0eWxlQXR0cmlidXRlcykpIHsKICAgIGVsZW1lbnQuc3R5bGVba2V5XSA9IHN0eWxlQXR0cmlidXRlc1trZXldOwogIH0KICByZXR1cm4gZWxlbWVudDsKfQoKLy8gTWF4IG51bWJlciBvZiBieXRlcyB3aGljaCB3aWxsIGJlIHVwbG9hZGVkIGF0IGEgdGltZS4KY29uc3QgTUFYX1BBWUxPQURfU0laRSA9IDEwMCAqIDEwMjQ7CgpmdW5jdGlvbiBfdXBsb2FkRmlsZXMoaW5wdXRJZCwgb3V0cHV0SWQpIHsKICBjb25zdCBzdGVwcyA9IHVwbG9hZEZpbGVzU3RlcChpbnB1dElkLCBvdXRwdXRJZCk7CiAgY29uc3Qgb3V0cHV0RWxlbWVudCA9IGRvY3VtZW50LmdldEVsZW1lbnRCeUlkKG91dHB1dElkKTsKICAvLyBDYWNoZSBzdGVwcyBvbiB0aGUgb3V0cHV0RWxlbWVudCB0byBtYWtlIGl0IGF2YWlsYWJsZSBmb3IgdGhlIG5leHQgY2FsbAogIC8vIHRvIHVwbG9hZEZpbGVzQ29udGludWUgZnJvbSBQeXRob24uCiAgb3V0cHV0RWxlbWVudC5zdGVwcyA9IHN0ZXBzOwoKICByZXR1cm4gX3VwbG9hZEZpbGVzQ29udGludWUob3V0cHV0SWQpOwp9CgovLyBUaGlzIGlzIHJvdWdobHkgYW4gYXN5bmMgZ2VuZXJhdG9yIChub3Qgc3VwcG9ydGVkIGluIHRoZSBicm93c2VyIHlldCksCi8vIHdoZXJlIHRoZXJlIGFyZSBtdWx0aXBsZSBhc3luY2hyb25vdXMgc3RlcHMgYW5kIHRoZSBQeXRob24gc2lkZSBpcyBnb2luZwovLyB0byBwb2xsIGZvciBjb21wbGV0aW9uIG9mIGVhY2ggc3RlcC4KLy8gVGhpcyB1c2VzIGEgUHJvbWlzZSB0byBibG9jayB0aGUgcHl0aG9uIHNpZGUgb24gY29tcGxldGlvbiBvZiBlYWNoIHN0ZXAsCi8vIHRoZW4gcGFzc2VzIHRoZSByZXN1bHQgb2YgdGhlIHByZXZpb3VzIHN0ZXAgYXMgdGhlIGlucHV0IHRvIHRoZSBuZXh0IHN0ZXAuCmZ1bmN0aW9uIF91cGxvYWRGaWxlc0NvbnRpbnVlKG91dHB1dElkKSB7CiAgY29uc3Qgb3V0cHV0RWxlbWVudCA9IGRvY3VtZW50LmdldEVsZW1lbnRCeUlkKG91dHB1dElkKTsKICBjb25zdCBzdGVwcyA9IG91dHB1dEVsZW1lbnQuc3RlcHM7CgogIGNvbnN0IG5leHQgPSBzdGVwcy5uZXh0KG91dHB1dEVsZW1lbnQubGFzdFByb21pc2VWYWx1ZSk7CiAgcmV0dXJuIFByb21pc2UucmVzb2x2ZShuZXh0LnZhbHVlLnByb21pc2UpLnRoZW4oKHZhbHVlKSA9PiB7CiAgICAvLyBDYWNoZSB0aGUgbGFzdCBwcm9taXNlIHZhbHVlIHRvIG1ha2UgaXQgYXZhaWxhYmxlIHRvIHRoZSBuZXh0CiAgICAvLyBzdGVwIG9mIHRoZSBnZW5lcmF0b3IuCiAgICBvdXRwdXRFbGVtZW50Lmxhc3RQcm9taXNlVmFsdWUgPSB2YWx1ZTsKICAgIHJldHVybiBuZXh0LnZhbHVlLnJlc3BvbnNlOwogIH0pOwp9CgovKioKICogR2VuZXJhdG9yIGZ1bmN0aW9uIHdoaWNoIGlzIGNhbGxlZCBiZXR3ZWVuIGVhY2ggYXN5bmMgc3RlcCBvZiB0aGUgdXBsb2FkCiAqIHByb2Nlc3MuCiAqIEBwYXJhbSB7c3RyaW5nfSBpbnB1dElkIEVsZW1lbnQgSUQgb2YgdGhlIGlucHV0IGZpbGUgcGlja2VyIGVsZW1lbnQuCiAqIEBwYXJhbSB7c3RyaW5nfSBvdXRwdXRJZCBFbGVtZW50IElEIG9mIHRoZSBvdXRwdXQgZGlzcGxheS4KICogQHJldHVybiB7IUl0ZXJhYmxlPCFPYmplY3Q+fSBJdGVyYWJsZSBvZiBuZXh0IHN0ZXBzLgogKi8KZnVuY3Rpb24qIHVwbG9hZEZpbGVzU3RlcChpbnB1dElkLCBvdXRwdXRJZCkgewogIGNvbnN0IGlucHV0RWxlbWVudCA9IGRvY3VtZW50LmdldEVsZW1lbnRCeUlkKGlucHV0SWQpOwogIGlucHV0RWxlbWVudC5kaXNhYmxlZCA9IGZhbHNlOwoKICBjb25zdCBvdXRwdXRFbGVtZW50ID0gZG9jdW1lbnQuZ2V0RWxlbWVudEJ5SWQob3V0cHV0SWQpOwogIG91dHB1dEVsZW1lbnQuaW5uZXJIVE1MID0gJyc7CgogIGNvbnN0IHBpY2tlZFByb21pc2UgPSBuZXcgUHJvbWlzZSgocmVzb2x2ZSkgPT4gewogICAgaW5wdXRFbGVtZW50LmFkZEV2ZW50TGlzdGVuZXIoJ2NoYW5nZScsIChlKSA9PiB7CiAgICAgIHJlc29sdmUoZS50YXJnZXQuZmlsZXMpOwogICAgfSk7CiAgfSk7CgogIGNvbnN0IGNhbmNlbCA9IGRvY3VtZW50LmNyZWF0ZUVsZW1lbnQoJ2J1dHRvbicpOwogIGlucHV0RWxlbWVudC5wYXJlbnRFbGVtZW50LmFwcGVuZENoaWxkKGNhbmNlbCk7CiAgY2FuY2VsLnRleHRDb250ZW50ID0gJ0NhbmNlbCB1cGxvYWQnOwogIGNvbnN0IGNhbmNlbFByb21pc2UgPSBuZXcgUHJvbWlzZSgocmVzb2x2ZSkgPT4gewogICAgY2FuY2VsLm9uY2xpY2sgPSAoKSA9PiB7CiAgICAgIHJlc29sdmUobnVsbCk7CiAgICB9OwogIH0pOwoKICAvLyBXYWl0IGZvciB0aGUgdXNlciB0byBwaWNrIHRoZSBmaWxlcy4KICBjb25zdCBmaWxlcyA9IHlpZWxkIHsKICAgIHByb21pc2U6IFByb21pc2UucmFjZShbcGlja2VkUHJvbWlzZSwgY2FuY2VsUHJvbWlzZV0pLAogICAgcmVzcG9uc2U6IHsKICAgICAgYWN0aW9uOiAnc3RhcnRpbmcnLAogICAgfQogIH07CgogIGNhbmNlbC5yZW1vdmUoKTsKCiAgLy8gRGlzYWJsZSB0aGUgaW5wdXQgZWxlbWVudCBzaW5jZSBmdXJ0aGVyIHBpY2tzIGFyZSBub3QgYWxsb3dlZC4KICBpbnB1dEVsZW1lbnQuZGlzYWJsZWQgPSB0cnVlOwoKICBpZiAoIWZpbGVzKSB7CiAgICByZXR1cm4gewogICAgICByZXNwb25zZTogewogICAgICAgIGFjdGlvbjogJ2NvbXBsZXRlJywKICAgICAgfQogICAgfTsKICB9CgogIGZvciAoY29uc3QgZmlsZSBvZiBmaWxlcykgewogICAgY29uc3QgbGkgPSBkb2N1bWVudC5jcmVhdGVFbGVtZW50KCdsaScpOwogICAgbGkuYXBwZW5kKHNwYW4oZmlsZS5uYW1lLCB7Zm9udFdlaWdodDogJ2JvbGQnfSkpOwogICAgbGkuYXBwZW5kKHNwYW4oCiAgICAgICAgYCgke2ZpbGUudHlwZSB8fCAnbi9hJ30pIC0gJHtmaWxlLnNpemV9IGJ5dGVzLCBgICsKICAgICAgICBgbGFzdCBtb2RpZmllZDogJHsKICAgICAgICAgICAgZmlsZS5sYXN0TW9kaWZpZWREYXRlID8gZmlsZS5sYXN0TW9kaWZpZWREYXRlLnRvTG9jYWxlRGF0ZVN0cmluZygpIDoKICAgICAgICAgICAgICAgICAgICAgICAgICAgICAgICAgICAgJ24vYSd9IC0gYCkpOwogICAgY29uc3QgcGVyY2VudCA9IHNwYW4oJzAlIGRvbmUnKTsKICAgIGxpLmFwcGVuZENoaWxkKHBlcmNlbnQpOwoKICAgIG91dHB1dEVsZW1lbnQuYXBwZW5kQ2hpbGQobGkpOwoKICAgIGNvbnN0IGZpbGVEYXRhUHJvbWlzZSA9IG5ldyBQcm9taXNlKChyZXNvbHZlKSA9PiB7CiAgICAgIGNvbnN0IHJlYWRlciA9IG5ldyBGaWxlUmVhZGVyKCk7CiAgICAgIHJlYWRlci5vbmxvYWQgPSAoZSkgPT4gewogICAgICAgIHJlc29sdmUoZS50YXJnZXQucmVzdWx0KTsKICAgICAgfTsKICAgICAgcmVhZGVyLnJlYWRBc0FycmF5QnVmZmVyKGZpbGUpOwogICAgfSk7CiAgICAvLyBXYWl0IGZvciB0aGUgZGF0YSB0byBiZSByZWFkeS4KICAgIGxldCBmaWxlRGF0YSA9IHlpZWxkIHsKICAgICAgcHJvbWlzZTogZmlsZURhdGFQcm9taXNlLAogICAgICByZXNwb25zZTogewogICAgICAgIGFjdGlvbjogJ2NvbnRpbnVlJywKICAgICAgfQogICAgfTsKCiAgICAvLyBVc2UgYSBjaHVua2VkIHNlbmRpbmcgdG8gYXZvaWQgbWVzc2FnZSBzaXplIGxpbWl0cy4gU2VlIGIvNjIxMTU2NjAuCiAgICBsZXQgcG9zaXRpb24gPSAwOwogICAgd2hpbGUgKHBvc2l0aW9uIDwgZmlsZURhdGEuYnl0ZUxlbmd0aCkgewogICAgICBjb25zdCBsZW5ndGggPSBNYXRoLm1pbihmaWxlRGF0YS5ieXRlTGVuZ3RoIC0gcG9zaXRpb24sIE1BWF9QQVlMT0FEX1NJWkUpOwogICAgICBjb25zdCBjaHVuayA9IG5ldyBVaW50OEFycmF5KGZpbGVEYXRhLCBwb3NpdGlvbiwgbGVuZ3RoKTsKICAgICAgcG9zaXRpb24gKz0gbGVuZ3RoOwoKICAgICAgY29uc3QgYmFzZTY0ID0gYnRvYShTdHJpbmcuZnJvbUNoYXJDb2RlLmFwcGx5KG51bGwsIGNodW5rKSk7CiAgICAgIHlpZWxkIHsKICAgICAgICByZXNwb25zZTogewogICAgICAgICAgYWN0aW9uOiAnYXBwZW5kJywKICAgICAgICAgIGZpbGU6IGZpbGUubmFtZSwKICAgICAgICAgIGRhdGE6IGJhc2U2NCwKICAgICAgICB9LAogICAgICB9OwogICAgICBwZXJjZW50LnRleHRDb250ZW50ID0KICAgICAgICAgIGAke01hdGgucm91bmQoKHBvc2l0aW9uIC8gZmlsZURhdGEuYnl0ZUxlbmd0aCkgKiAxMDApfSUgZG9uZWA7CiAgICB9CiAgfQoKICAvLyBBbGwgZG9uZS4KICB5aWVsZCB7CiAgICByZXNwb25zZTogewogICAgICBhY3Rpb246ICdjb21wbGV0ZScsCiAgICB9CiAgfTsKfQoKc2NvcGUuZ29vZ2xlID0gc2NvcGUuZ29vZ2xlIHx8IHt9OwpzY29wZS5nb29nbGUuY29sYWIgPSBzY29wZS5nb29nbGUuY29sYWIgfHwge307CnNjb3BlLmdvb2dsZS5jb2xhYi5fZmlsZXMgPSB7CiAgX3VwbG9hZEZpbGVzLAogIF91cGxvYWRGaWxlc0NvbnRpbnVlLAp9Owp9KShzZWxmKTsK",
              "ok": true,
              "headers": [
                [
                  "content-type",
                  "application/javascript"
                ]
              ],
              "status": 200,
              "status_text": ""
            }
          },
          "base_uri": "https://localhost:8080/",
          "height": 72
        },
        "outputId": "ccc8cbb6-7ea4-41ca-b4be-3386bb33fdbb"
      },
      "source": [
        "\n",
        "path = Path()\n",
        "learn_inf = load_learner(path/'export.pkl', cpu=True)\n",
        "btn_upload = widgets.FileUpload()\n",
        "out_pl = widgets.Output()\n",
        "lbl_pred = widgets.Label()"
      ],
      "execution_count": 12,
      "outputs": [
        {
          "output_type": "display_data",
          "data": {
            "text/html": [
              "\n",
              "     <input type=\"file\" id=\"files-465a3843-48a0-474b-97ae-8f4d143b93ff\" name=\"files[]\" multiple disabled\n",
              "        style=\"border:none\" />\n",
              "     <output id=\"result-465a3843-48a0-474b-97ae-8f4d143b93ff\">\n",
              "      Upload widget is only available when the cell has been executed in the\n",
              "      current browser session. Please rerun this cell to enable.\n",
              "      </output>\n",
              "      <script src=\"/nbextensions/google.colab/files.js\"></script> "
            ],
            "text/plain": [
              "<IPython.core.display.HTML object>"
            ]
          },
          "metadata": {
            "tags": []
          }
        },
        {
          "output_type": "stream",
          "text": [
            "Saving export.pkl to export.pkl\n"
          ],
          "name": "stdout"
        }
      ]
    },
    {
      "cell_type": "code",
      "metadata": {
        "id": "rvDi7GypENIF"
      },
      "source": [
        "def on_data_change(change):\n",
        "    lbl_pred.value = ''\n",
        "    img = PILImage.create(btn_upload.data[-1])\n",
        "    out_pl.clear_output()\n",
        "    with out_pl: display(img.to_thumb(128,128))\n",
        "    pred,pred_idx,probs = learn_inf.predict(img)\n",
        "    lbl_pred.value = f'Prediction: {pred}; Probability: {probs[pred_idx]:.04f}'"
      ],
      "execution_count": 13,
      "outputs": []
    },
    {
      "cell_type": "code",
      "metadata": {
        "id": "ROu-p-U4ENII"
      },
      "source": [
        "btn_upload.observe(on_data_change, names=['data'])"
      ],
      "execution_count": 14,
      "outputs": []
    },
    {
      "cell_type": "code",
      "metadata": {
        "scrolled": false,
        "id": "t9ueRRUQENIK",
        "colab": {
          "base_uri": "https://localhost:8080/",
          "height": 241,
          "referenced_widgets": [
            "3e14e187e29141a3ab11589a4eea76a0",
            "1796382411b5460f90eac65c55d0aeb3",
            "5dda0d36d70f469f977f92b7e483bd99",
            "e42f303041384e4bb5effbe32c02b540",
            "39fe57adb40547d6845b0e40c615d97d",
            "fbdb03c88cb14ca2b9ff68376c758d00",
            "3421504f57a147f9a52bccde5259ada0",
            "84d36ce43a2341f7b9406a86c1badd98",
            "13368e93471c48d5ad105d7df1df7e5b",
            "da55b812dfb84a77bbd1d326744a6281",
            "3d432e1e3b184f3fa006461923ecfae4",
            "257c4180750e4dc99cb5f08bb66088ec",
            "485fe7a9fae849958877ef2a3f1cf635"
          ]
        },
        "outputId": "bc1ce8ed-898f-4270-b703-6bb9b7515804"
      },
      "source": [
        "display(VBox([widgets.Label('Select your bear!'), btn_upload, out_pl, lbl_pred]))"
      ],
      "execution_count": 15,
      "outputs": [
        {
          "output_type": "display_data",
          "data": {
            "application/vnd.jupyter.widget-view+json": {
              "model_id": "3e14e187e29141a3ab11589a4eea76a0",
              "version_minor": 0,
              "version_major": 2
            },
            "text/plain": [
              "VBox(children=(Label(value='Select your bear!'), FileUpload(value={}, description='Upload'), Output(), Label(v…"
            ]
          },
          "metadata": {
            "tags": []
          }
        },
        {
          "output_type": "display_data",
          "data": {
            "text/html": [
              ""
            ],
            "text/plain": [
              "<IPython.core.display.HTML object>"
            ]
          },
          "metadata": {
            "tags": []
          }
        }
      ]
    },
    {
      "cell_type": "code",
      "metadata": {
        "id": "kJI04l39ENIN"
      },
      "source": [
        ""
      ],
      "execution_count": null,
      "outputs": []
    }
  ]
}
